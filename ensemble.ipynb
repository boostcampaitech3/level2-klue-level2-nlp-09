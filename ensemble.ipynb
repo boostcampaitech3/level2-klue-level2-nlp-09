{
 "cells": [
  {
   "cell_type": "code",
   "execution_count": 112,
   "metadata": {},
   "outputs": [],
   "source": [
    "import pandas as pd\n",
    "import numpy as np\n",
    "import os\n",
    "import pickle\n",
    "from inference import num_to_label"
   ]
  },
  {
   "cell_type": "code",
   "execution_count": 113,
   "metadata": {},
   "outputs": [
    {
     "name": "stdout",
     "output_type": "stream",
     "text": [
      "['._sample_submission.csv', 'output (7).csv', '.ipynb_checkpoints', 'submission.csv', '._.ipynb_checkpoints', 'latestbilstm.csv', 'latestbilstm1.csv', 'org_per_split.csv', 'org_per_split_512.csv', '뭐더라.csv']\n"
     ]
    }
   ],
   "source": [
    "print(os.listdir(\"./ensemble_csv_list\"))"
   ]
  },
  {
   "cell_type": "code",
   "execution_count": 114,
   "metadata": {},
   "outputs": [],
   "source": [
    "test_dataset_dir = \"../dataset/test/test_data.csv\"\n",
    "test_dataset = pd.read_csv(test_dataset_dir)\n",
    "\n",
    "test_id = list(test_dataset['id']) "
   ]
  },
  {
   "cell_type": "code",
   "execution_count": 115,
   "metadata": {},
   "outputs": [
    {
     "name": "stdout",
     "output_type": "stream",
     "text": [
      "(7, 7765, 30)\n"
     ]
    }
   ],
   "source": [
    "ensemble_csvs_path = \"./ensemble_csv_list\"\n",
    "prob_list = []\n",
    "\n",
    "for csv in os.listdir(ensemble_csvs_path):\n",
    "    if csv[0] != '.':\n",
    "        prob = [eval(x) for x in pd.read_csv(os.path.join(ensemble_csvs_path,csv))[\"probs\"]]\n",
    "        prob_list.append(prob)\n",
    "new_probs = np.array(prob_list)\n",
    "print(new_probs.shape)"
   ]
  },
  {
   "cell_type": "code",
   "execution_count": 116,
   "metadata": {},
   "outputs": [
    {
     "name": "stdout",
     "output_type": "stream",
     "text": [
      "(7765, 30)\n",
      "[[1.27447740e-01 2.39017023e-03 2.32121045e-01 ... 5.96098872e-05\n",
      "  1.17639407e-03 7.06922957e-05]\n",
      " [2.49320846e-02 1.51473076e-04 1.32540101e-04 ... 7.17252667e-04\n",
      "  1.24423276e-04 7.80853440e-04]\n",
      " [9.89851035e-01 1.25095275e-03 5.03237943e-04 ... 1.73126480e-05\n",
      "  9.97234215e-05 9.69668550e-06]\n",
      " ...\n",
      " [5.66847446e-03 9.82000039e-01 8.46983606e-04 ... 2.79699897e-05\n",
      "  5.22343776e-03 2.24485272e-05]\n",
      " [7.77596828e-01 1.54335088e-04 1.19626599e-04 ... 1.31360424e-03\n",
      "  3.43349944e-04 1.42331945e-03]\n",
      " [9.66238708e-01 6.04509484e-05 3.61337416e-05 ... 2.49392164e-04\n",
      "  1.74381597e-05 2.02246919e-04]]\n",
      "확률합: [1.00000005 0.99999998 1.00000001 0.99999998 1.00000002 1.00000001\n",
      " 0.99999999 0.99999995 0.99999997 0.99999995 1.00000005 1.00000008\n",
      " 0.99999998 1.00000006 1.00000001 1.00000001 1.         0.99999997\n",
      " 1.00000003 0.99999998 1.00000002 0.99999997 1.00000003 1.00000001\n",
      " 0.99999999 1.00000002 1.00000002 1.00000004 0.99999996 0.99999998]\n"
     ]
    }
   ],
   "source": [
    "avg_probs = np.sum(new_probs,axis=0)/len(prob_list)\n",
    "print(avg_probs.shape)\n",
    "print(avg_probs)\n",
    "print(\"확률합:\", np.sum(avg_probs[0:30], axis=1))"
   ]
  },
  {
   "cell_type": "code",
   "execution_count": 117,
   "metadata": {},
   "outputs": [
    {
     "name": "stdout",
     "output_type": "stream",
     "text": [
      "(7765,)\n"
     ]
    }
   ],
   "source": [
    "pred_answer = np.argmax(avg_probs, axis=-1)\n",
    "print(pred_answer.shape)"
   ]
  },
  {
   "cell_type": "code",
   "execution_count": 118,
   "metadata": {},
   "outputs": [],
   "source": [
    "pred_answer = num_to_label(pred_answer)\n",
    "print(len(pred_answer))"
   ]
  },
  {
   "cell_type": "code",
   "execution_count": 121,
   "metadata": {},
   "outputs": [
    {
     "name": "stdout",
     "output_type": "stream",
     "text": [
      "7765 7765 7765\n"
     ]
    }
   ],
   "source": [
    "output = pd.DataFrame({'id':test_id,'pred_label':pred_answer,'probs':avg_probs.tolist(),})\n",
    "output.to_csv('./prediction/ensembled_output.csv', index=False) "
   ]
  },
  {
   "cell_type": "code",
   "execution_count": null,
   "metadata": {},
   "outputs": [],
   "source": []
  }
 ],
 "metadata": {
  "interpreter": {
   "hash": "d4d1e4263499bec80672ea0156c357c1ee493ec2b1c70f0acce89fc37c4a6abe"
  },
  "kernelspec": {
   "display_name": "Python 3.8.5 ('base')",
   "language": "python",
   "name": "python3"
  },
  "language_info": {
   "codemirror_mode": {
    "name": "ipython",
    "version": 3
   },
   "file_extension": ".py",
   "mimetype": "text/x-python",
   "name": "python",
   "nbconvert_exporter": "python",
   "pygments_lexer": "ipython3",
   "version": "3.8.5"
  },
  "orig_nbformat": 4
 },
 "nbformat": 4,
 "nbformat_minor": 2
}
